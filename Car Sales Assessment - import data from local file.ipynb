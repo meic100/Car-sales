{
 "cells": [
  {
   "cell_type": "markdown",
   "id": "2794c953",
   "metadata": {},
   "source": [
    "# Python used to clean data, then analyse it using \n",
    "# \"Calculated Columns\" and \"Measures\" to look at \n",
    "# sale price and profit"
   ]
  },
  {
   "cell_type": "code",
   "execution_count": 1,
   "id": "d9755d35",
   "metadata": {},
   "outputs": [
    {
     "data": {
      "text/html": [
       "<style>.container { width:100% !important; }</style>"
      ],
      "text/plain": [
       "<IPython.core.display.HTML object>"
      ]
     },
     "metadata": {},
     "output_type": "display_data"
    }
   ],
   "source": [
    "# importing packages\n",
    "import pandas as pd\n",
    "from IPython.display import display, HTML\n",
    "# Extending the width of the display\n",
    "display(HTML(\"<style>.container { width:100% !important; }</style>\"))"
   ]
  },
  {
   "cell_type": "markdown",
   "id": "3f82fbd4",
   "metadata": {},
   "source": [
    "# Upload the “CarSalesData” table"
   ]
  },
  {
   "cell_type": "code",
   "execution_count": 2,
   "id": "cb3be1b5",
   "metadata": {},
   "outputs": [],
   "source": [
    "# Upload data from local file called 'CarSalesData.csv'\n",
    "car_sales = pd.read_csv('CarSalesData.csv')"
   ]
  },
  {
   "cell_type": "markdown",
   "id": "5b6063f1",
   "metadata": {},
   "source": [
    "# Clean the data : Remove all rows containing null values"
   ]
  },
  {
   "cell_type": "code",
   "execution_count": 3,
   "id": "ce8abd5e",
   "metadata": {},
   "outputs": [
    {
     "data": {
      "text/plain": [
       "CarSaleID        0\n",
       "Brand            0\n",
       "Model            0\n",
       "BuyingPrice      9\n",
       "SellingPrice    17\n",
       "dtype: int64"
      ]
     },
     "execution_count": 3,
     "metadata": {},
     "output_type": "execute_result"
    }
   ],
   "source": [
    "# Find how many null values there are\n",
    "car_sales.isna().sum()"
   ]
  },
  {
   "cell_type": "code",
   "execution_count": 4,
   "id": "19bb62cb",
   "metadata": {},
   "outputs": [],
   "source": [
    "# Remove all rows containing null values\n",
    "car_sales.dropna(inplace=True)"
   ]
  },
  {
   "cell_type": "code",
   "execution_count": 5,
   "id": "937b1523",
   "metadata": {},
   "outputs": [
    {
     "data": {
      "text/plain": [
       "CarSaleID       0\n",
       "Brand           0\n",
       "Model           0\n",
       "BuyingPrice     0\n",
       "SellingPrice    0\n",
       "dtype: int64"
      ]
     },
     "execution_count": 5,
     "metadata": {},
     "output_type": "execute_result"
    }
   ],
   "source": [
    "# Check nulls have been removed\n",
    "car_sales.isna().sum()"
   ]
  },
  {
   "cell_type": "code",
   "execution_count": 6,
   "id": "f2a0673f",
   "metadata": {},
   "outputs": [
    {
     "data": {
      "text/html": [
       "<div>\n",
       "<style scoped>\n",
       "    .dataframe tbody tr th:only-of-type {\n",
       "        vertical-align: middle;\n",
       "    }\n",
       "\n",
       "    .dataframe tbody tr th {\n",
       "        vertical-align: top;\n",
       "    }\n",
       "\n",
       "    .dataframe thead th {\n",
       "        text-align: right;\n",
       "    }\n",
       "</style>\n",
       "<table border=\"1\" class=\"dataframe\">\n",
       "  <thead>\n",
       "    <tr style=\"text-align: right;\">\n",
       "      <th></th>\n",
       "      <th>CarSaleID</th>\n",
       "      <th>Brand</th>\n",
       "      <th>Model</th>\n",
       "      <th>BuyingPrice</th>\n",
       "      <th>SellingPrice</th>\n",
       "    </tr>\n",
       "  </thead>\n",
       "  <tbody>\n",
       "    <tr>\n",
       "      <th>1</th>\n",
       "      <td>2</td>\n",
       "      <td>Ford</td>\n",
       "      <td>Festiva</td>\n",
       "      <td>41107.23</td>\n",
       "      <td>8529.54</td>\n",
       "    </tr>\n",
       "    <tr>\n",
       "      <th>2</th>\n",
       "      <td>3</td>\n",
       "      <td>Cadillac</td>\n",
       "      <td>XLR</td>\n",
       "      <td>24982.65</td>\n",
       "      <td>4048.91</td>\n",
       "    </tr>\n",
       "    <tr>\n",
       "      <th>3</th>\n",
       "      <td>4</td>\n",
       "      <td>Cadillac</td>\n",
       "      <td>Eldorado</td>\n",
       "      <td>1599.61</td>\n",
       "      <td>83575.23</td>\n",
       "    </tr>\n",
       "    <tr>\n",
       "      <th>5</th>\n",
       "      <td>6</td>\n",
       "      <td>Corbin</td>\n",
       "      <td>Sparrow</td>\n",
       "      <td>45533.84</td>\n",
       "      <td>66986.16</td>\n",
       "    </tr>\n",
       "    <tr>\n",
       "      <th>6</th>\n",
       "      <td>7</td>\n",
       "      <td>GMC</td>\n",
       "      <td>Canyon</td>\n",
       "      <td>9408.15</td>\n",
       "      <td>65708.52</td>\n",
       "    </tr>\n",
       "    <tr>\n",
       "      <th>...</th>\n",
       "      <td>...</td>\n",
       "      <td>...</td>\n",
       "      <td>...</td>\n",
       "      <td>...</td>\n",
       "      <td>...</td>\n",
       "    </tr>\n",
       "    <tr>\n",
       "      <th>94</th>\n",
       "      <td>95</td>\n",
       "      <td>Ford</td>\n",
       "      <td>Mustang</td>\n",
       "      <td>14674.94</td>\n",
       "      <td>12010.62</td>\n",
       "    </tr>\n",
       "    <tr>\n",
       "      <th>95</th>\n",
       "      <td>96</td>\n",
       "      <td>GMC</td>\n",
       "      <td>Sonoma Club Coupe</td>\n",
       "      <td>4214.93</td>\n",
       "      <td>24509.82</td>\n",
       "    </tr>\n",
       "    <tr>\n",
       "      <th>96</th>\n",
       "      <td>97</td>\n",
       "      <td>Subaru</td>\n",
       "      <td>Leone</td>\n",
       "      <td>44519.55</td>\n",
       "      <td>37449.81</td>\n",
       "    </tr>\n",
       "    <tr>\n",
       "      <th>97</th>\n",
       "      <td>98</td>\n",
       "      <td>Ford</td>\n",
       "      <td>Contour</td>\n",
       "      <td>7116.29</td>\n",
       "      <td>29959.23</td>\n",
       "    </tr>\n",
       "    <tr>\n",
       "      <th>98</th>\n",
       "      <td>99</td>\n",
       "      <td>Dodge</td>\n",
       "      <td>Daytona</td>\n",
       "      <td>21005.42</td>\n",
       "      <td>50325.66</td>\n",
       "    </tr>\n",
       "  </tbody>\n",
       "</table>\n",
       "<p>76 rows × 5 columns</p>\n",
       "</div>"
      ],
      "text/plain": [
       "    CarSaleID     Brand              Model  BuyingPrice  SellingPrice\n",
       "1           2      Ford            Festiva     41107.23       8529.54\n",
       "2           3  Cadillac                XLR     24982.65       4048.91\n",
       "3           4  Cadillac           Eldorado      1599.61      83575.23\n",
       "5           6    Corbin            Sparrow     45533.84      66986.16\n",
       "6           7       GMC             Canyon      9408.15      65708.52\n",
       "..        ...       ...                ...          ...           ...\n",
       "94         95      Ford            Mustang     14674.94      12010.62\n",
       "95         96       GMC  Sonoma Club Coupe      4214.93      24509.82\n",
       "96         97    Subaru              Leone     44519.55      37449.81\n",
       "97         98      Ford            Contour      7116.29      29959.23\n",
       "98         99     Dodge            Daytona     21005.42      50325.66\n",
       "\n",
       "[76 rows x 5 columns]"
      ]
     },
     "execution_count": 6,
     "metadata": {},
     "output_type": "execute_result"
    }
   ],
   "source": [
    "# Check\n",
    "car_sales"
   ]
  },
  {
   "cell_type": "code",
   "execution_count": 7,
   "id": "d8aebca1",
   "metadata": {},
   "outputs": [],
   "source": [
    "# Reset the index, drop the current index and keep hold of the new index\n",
    "car_sales.reset_index(drop=True, inplace=True)"
   ]
  },
  {
   "cell_type": "code",
   "execution_count": 8,
   "id": "b58f53c0",
   "metadata": {},
   "outputs": [
    {
     "data": {
      "text/html": [
       "<div>\n",
       "<style scoped>\n",
       "    .dataframe tbody tr th:only-of-type {\n",
       "        vertical-align: middle;\n",
       "    }\n",
       "\n",
       "    .dataframe tbody tr th {\n",
       "        vertical-align: top;\n",
       "    }\n",
       "\n",
       "    .dataframe thead th {\n",
       "        text-align: right;\n",
       "    }\n",
       "</style>\n",
       "<table border=\"1\" class=\"dataframe\">\n",
       "  <thead>\n",
       "    <tr style=\"text-align: right;\">\n",
       "      <th></th>\n",
       "      <th>CarSaleID</th>\n",
       "      <th>Brand</th>\n",
       "      <th>Model</th>\n",
       "      <th>BuyingPrice</th>\n",
       "      <th>SellingPrice</th>\n",
       "    </tr>\n",
       "  </thead>\n",
       "  <tbody>\n",
       "    <tr>\n",
       "      <th>0</th>\n",
       "      <td>2</td>\n",
       "      <td>Ford</td>\n",
       "      <td>Festiva</td>\n",
       "      <td>41107.23</td>\n",
       "      <td>8529.54</td>\n",
       "    </tr>\n",
       "    <tr>\n",
       "      <th>1</th>\n",
       "      <td>3</td>\n",
       "      <td>Cadillac</td>\n",
       "      <td>XLR</td>\n",
       "      <td>24982.65</td>\n",
       "      <td>4048.91</td>\n",
       "    </tr>\n",
       "    <tr>\n",
       "      <th>2</th>\n",
       "      <td>4</td>\n",
       "      <td>Cadillac</td>\n",
       "      <td>Eldorado</td>\n",
       "      <td>1599.61</td>\n",
       "      <td>83575.23</td>\n",
       "    </tr>\n",
       "    <tr>\n",
       "      <th>3</th>\n",
       "      <td>6</td>\n",
       "      <td>Corbin</td>\n",
       "      <td>Sparrow</td>\n",
       "      <td>45533.84</td>\n",
       "      <td>66986.16</td>\n",
       "    </tr>\n",
       "    <tr>\n",
       "      <th>4</th>\n",
       "      <td>7</td>\n",
       "      <td>GMC</td>\n",
       "      <td>Canyon</td>\n",
       "      <td>9408.15</td>\n",
       "      <td>65708.52</td>\n",
       "    </tr>\n",
       "    <tr>\n",
       "      <th>...</th>\n",
       "      <td>...</td>\n",
       "      <td>...</td>\n",
       "      <td>...</td>\n",
       "      <td>...</td>\n",
       "      <td>...</td>\n",
       "    </tr>\n",
       "    <tr>\n",
       "      <th>71</th>\n",
       "      <td>95</td>\n",
       "      <td>Ford</td>\n",
       "      <td>Mustang</td>\n",
       "      <td>14674.94</td>\n",
       "      <td>12010.62</td>\n",
       "    </tr>\n",
       "    <tr>\n",
       "      <th>72</th>\n",
       "      <td>96</td>\n",
       "      <td>GMC</td>\n",
       "      <td>Sonoma Club Coupe</td>\n",
       "      <td>4214.93</td>\n",
       "      <td>24509.82</td>\n",
       "    </tr>\n",
       "    <tr>\n",
       "      <th>73</th>\n",
       "      <td>97</td>\n",
       "      <td>Subaru</td>\n",
       "      <td>Leone</td>\n",
       "      <td>44519.55</td>\n",
       "      <td>37449.81</td>\n",
       "    </tr>\n",
       "    <tr>\n",
       "      <th>74</th>\n",
       "      <td>98</td>\n",
       "      <td>Ford</td>\n",
       "      <td>Contour</td>\n",
       "      <td>7116.29</td>\n",
       "      <td>29959.23</td>\n",
       "    </tr>\n",
       "    <tr>\n",
       "      <th>75</th>\n",
       "      <td>99</td>\n",
       "      <td>Dodge</td>\n",
       "      <td>Daytona</td>\n",
       "      <td>21005.42</td>\n",
       "      <td>50325.66</td>\n",
       "    </tr>\n",
       "  </tbody>\n",
       "</table>\n",
       "<p>76 rows × 5 columns</p>\n",
       "</div>"
      ],
      "text/plain": [
       "    CarSaleID     Brand              Model  BuyingPrice  SellingPrice\n",
       "0           2      Ford            Festiva     41107.23       8529.54\n",
       "1           3  Cadillac                XLR     24982.65       4048.91\n",
       "2           4  Cadillac           Eldorado      1599.61      83575.23\n",
       "3           6    Corbin            Sparrow     45533.84      66986.16\n",
       "4           7       GMC             Canyon      9408.15      65708.52\n",
       "..        ...       ...                ...          ...           ...\n",
       "71         95      Ford            Mustang     14674.94      12010.62\n",
       "72         96       GMC  Sonoma Club Coupe      4214.93      24509.82\n",
       "73         97    Subaru              Leone     44519.55      37449.81\n",
       "74         98      Ford            Contour      7116.29      29959.23\n",
       "75         99     Dodge            Daytona     21005.42      50325.66\n",
       "\n",
       "[76 rows x 5 columns]"
      ]
     },
     "execution_count": 8,
     "metadata": {},
     "output_type": "execute_result"
    }
   ],
   "source": [
    "# Check\n",
    "car_sales"
   ]
  },
  {
   "cell_type": "markdown",
   "id": "618f80a8",
   "metadata": {},
   "source": [
    "# Continue cleaning the data : Check for duplicates"
   ]
  },
  {
   "cell_type": "code",
   "execution_count": 9,
   "id": "c6c27667",
   "metadata": {},
   "outputs": [],
   "source": [
    "# Get a list of duplicates\n",
    "duplicates = car_sales.duplicated()"
   ]
  },
  {
   "cell_type": "code",
   "execution_count": 10,
   "id": "f915d775",
   "metadata": {},
   "outputs": [
    {
     "data": {
      "text/plain": [
       "False"
      ]
     },
     "execution_count": 10,
     "metadata": {},
     "output_type": "execute_result"
    }
   ],
   "source": [
    "# Duplicate rows are indicated by True in 'duplicates' dataframe.\n",
    "# max() will return True if there are any True values in 'duplicates'.\n",
    "max(duplicates)"
   ]
  },
  {
   "cell_type": "markdown",
   "id": "b41b8fd6",
   "metadata": {},
   "source": [
    "# Continue cleaning the data : Check if \n",
    "# data types of each column are correct\n",
    "# e.g. If BuyingPrice is a number, not a string "
   ]
  },
  {
   "cell_type": "code",
   "execution_count": 11,
   "id": "e355a2b0",
   "metadata": {},
   "outputs": [
    {
     "data": {
      "text/plain": [
       "CarSaleID         int64\n",
       "Brand            object\n",
       "Model            object\n",
       "BuyingPrice     float64\n",
       "SellingPrice    float64\n",
       "dtype: object"
      ]
     },
     "execution_count": 11,
     "metadata": {},
     "output_type": "execute_result"
    }
   ],
   "source": [
    "car_sales.dtypes"
   ]
  },
  {
   "cell_type": "markdown",
   "id": "27185a62",
   "metadata": {},
   "source": [
    "# Adding a \"Calculated column\".  \n",
    "# Add a new column called “Profit” which will be the\n",
    "# subtraction of the “BuyingPrice” column from the \n",
    "# “SellingPrice” column."
   ]
  },
  {
   "cell_type": "code",
   "execution_count": 12,
   "id": "f858a703",
   "metadata": {},
   "outputs": [],
   "source": [
    "car_sales['Profit'] = car_sales['SellingPrice'] - car_sales['BuyingPrice']"
   ]
  },
  {
   "cell_type": "code",
   "execution_count": 13,
   "id": "6d1d880e",
   "metadata": {},
   "outputs": [
    {
     "data": {
      "text/html": [
       "<div>\n",
       "<style scoped>\n",
       "    .dataframe tbody tr th:only-of-type {\n",
       "        vertical-align: middle;\n",
       "    }\n",
       "\n",
       "    .dataframe tbody tr th {\n",
       "        vertical-align: top;\n",
       "    }\n",
       "\n",
       "    .dataframe thead th {\n",
       "        text-align: right;\n",
       "    }\n",
       "</style>\n",
       "<table border=\"1\" class=\"dataframe\">\n",
       "  <thead>\n",
       "    <tr style=\"text-align: right;\">\n",
       "      <th></th>\n",
       "      <th>CarSaleID</th>\n",
       "      <th>Brand</th>\n",
       "      <th>Model</th>\n",
       "      <th>BuyingPrice</th>\n",
       "      <th>SellingPrice</th>\n",
       "      <th>Profit</th>\n",
       "    </tr>\n",
       "  </thead>\n",
       "  <tbody>\n",
       "    <tr>\n",
       "      <th>0</th>\n",
       "      <td>2</td>\n",
       "      <td>Ford</td>\n",
       "      <td>Festiva</td>\n",
       "      <td>41107.23</td>\n",
       "      <td>8529.54</td>\n",
       "      <td>-32577.69</td>\n",
       "    </tr>\n",
       "    <tr>\n",
       "      <th>1</th>\n",
       "      <td>3</td>\n",
       "      <td>Cadillac</td>\n",
       "      <td>XLR</td>\n",
       "      <td>24982.65</td>\n",
       "      <td>4048.91</td>\n",
       "      <td>-20933.74</td>\n",
       "    </tr>\n",
       "    <tr>\n",
       "      <th>2</th>\n",
       "      <td>4</td>\n",
       "      <td>Cadillac</td>\n",
       "      <td>Eldorado</td>\n",
       "      <td>1599.61</td>\n",
       "      <td>83575.23</td>\n",
       "      <td>81975.62</td>\n",
       "    </tr>\n",
       "    <tr>\n",
       "      <th>3</th>\n",
       "      <td>6</td>\n",
       "      <td>Corbin</td>\n",
       "      <td>Sparrow</td>\n",
       "      <td>45533.84</td>\n",
       "      <td>66986.16</td>\n",
       "      <td>21452.32</td>\n",
       "    </tr>\n",
       "    <tr>\n",
       "      <th>4</th>\n",
       "      <td>7</td>\n",
       "      <td>GMC</td>\n",
       "      <td>Canyon</td>\n",
       "      <td>9408.15</td>\n",
       "      <td>65708.52</td>\n",
       "      <td>56300.37</td>\n",
       "    </tr>\n",
       "    <tr>\n",
       "      <th>...</th>\n",
       "      <td>...</td>\n",
       "      <td>...</td>\n",
       "      <td>...</td>\n",
       "      <td>...</td>\n",
       "      <td>...</td>\n",
       "      <td>...</td>\n",
       "    </tr>\n",
       "    <tr>\n",
       "      <th>71</th>\n",
       "      <td>95</td>\n",
       "      <td>Ford</td>\n",
       "      <td>Mustang</td>\n",
       "      <td>14674.94</td>\n",
       "      <td>12010.62</td>\n",
       "      <td>-2664.32</td>\n",
       "    </tr>\n",
       "    <tr>\n",
       "      <th>72</th>\n",
       "      <td>96</td>\n",
       "      <td>GMC</td>\n",
       "      <td>Sonoma Club Coupe</td>\n",
       "      <td>4214.93</td>\n",
       "      <td>24509.82</td>\n",
       "      <td>20294.89</td>\n",
       "    </tr>\n",
       "    <tr>\n",
       "      <th>73</th>\n",
       "      <td>97</td>\n",
       "      <td>Subaru</td>\n",
       "      <td>Leone</td>\n",
       "      <td>44519.55</td>\n",
       "      <td>37449.81</td>\n",
       "      <td>-7069.74</td>\n",
       "    </tr>\n",
       "    <tr>\n",
       "      <th>74</th>\n",
       "      <td>98</td>\n",
       "      <td>Ford</td>\n",
       "      <td>Contour</td>\n",
       "      <td>7116.29</td>\n",
       "      <td>29959.23</td>\n",
       "      <td>22842.94</td>\n",
       "    </tr>\n",
       "    <tr>\n",
       "      <th>75</th>\n",
       "      <td>99</td>\n",
       "      <td>Dodge</td>\n",
       "      <td>Daytona</td>\n",
       "      <td>21005.42</td>\n",
       "      <td>50325.66</td>\n",
       "      <td>29320.24</td>\n",
       "    </tr>\n",
       "  </tbody>\n",
       "</table>\n",
       "<p>76 rows × 6 columns</p>\n",
       "</div>"
      ],
      "text/plain": [
       "    CarSaleID     Brand              Model  BuyingPrice  SellingPrice  \\\n",
       "0           2      Ford            Festiva     41107.23       8529.54   \n",
       "1           3  Cadillac                XLR     24982.65       4048.91   \n",
       "2           4  Cadillac           Eldorado      1599.61      83575.23   \n",
       "3           6    Corbin            Sparrow     45533.84      66986.16   \n",
       "4           7       GMC             Canyon      9408.15      65708.52   \n",
       "..        ...       ...                ...          ...           ...   \n",
       "71         95      Ford            Mustang     14674.94      12010.62   \n",
       "72         96       GMC  Sonoma Club Coupe      4214.93      24509.82   \n",
       "73         97    Subaru              Leone     44519.55      37449.81   \n",
       "74         98      Ford            Contour      7116.29      29959.23   \n",
       "75         99     Dodge            Daytona     21005.42      50325.66   \n",
       "\n",
       "      Profit  \n",
       "0  -32577.69  \n",
       "1  -20933.74  \n",
       "2   81975.62  \n",
       "3   21452.32  \n",
       "4   56300.37  \n",
       "..       ...  \n",
       "71  -2664.32  \n",
       "72  20294.89  \n",
       "73  -7069.74  \n",
       "74  22842.94  \n",
       "75  29320.24  \n",
       "\n",
       "[76 rows x 6 columns]"
      ]
     },
     "execution_count": 13,
     "metadata": {},
     "output_type": "execute_result"
    }
   ],
   "source": [
    "# Check\n",
    "car_sales"
   ]
  },
  {
   "cell_type": "markdown",
   "id": "f2f946f9",
   "metadata": {},
   "source": [
    "# Adding a \"Calculated column\".  \n",
    "# Add a new column called “MadeProfit” which will be\n",
    "# True if the car was sold for more than it was bought,\n",
    "#  and False otherwise"
   ]
  },
  {
   "cell_type": "code",
   "execution_count": 14,
   "id": "182e1d33",
   "metadata": {},
   "outputs": [],
   "source": [
    "# Add a column called \"MadeProfit\", and initialise all its values to \"True\"\n",
    "car_sales['MadeProfit'] = True\n",
    "\n",
    "# Fill the new column\n",
    "for row_index in range(car_sales.shape[0]):\n",
    "    # Set to False if the car sold for less than it was bought\n",
    "    if car_sales['Profit'][row_index] <= 0 :\n",
    "        car_sales.loc[row_index, 'MadeProfit'] = False"
   ]
  },
  {
   "cell_type": "code",
   "execution_count": 15,
   "id": "29f58b1f",
   "metadata": {},
   "outputs": [
    {
     "data": {
      "text/html": [
       "<div>\n",
       "<style scoped>\n",
       "    .dataframe tbody tr th:only-of-type {\n",
       "        vertical-align: middle;\n",
       "    }\n",
       "\n",
       "    .dataframe tbody tr th {\n",
       "        vertical-align: top;\n",
       "    }\n",
       "\n",
       "    .dataframe thead th {\n",
       "        text-align: right;\n",
       "    }\n",
       "</style>\n",
       "<table border=\"1\" class=\"dataframe\">\n",
       "  <thead>\n",
       "    <tr style=\"text-align: right;\">\n",
       "      <th></th>\n",
       "      <th>CarSaleID</th>\n",
       "      <th>Brand</th>\n",
       "      <th>Model</th>\n",
       "      <th>BuyingPrice</th>\n",
       "      <th>SellingPrice</th>\n",
       "      <th>Profit</th>\n",
       "      <th>MadeProfit</th>\n",
       "    </tr>\n",
       "  </thead>\n",
       "  <tbody>\n",
       "    <tr>\n",
       "      <th>0</th>\n",
       "      <td>2</td>\n",
       "      <td>Ford</td>\n",
       "      <td>Festiva</td>\n",
       "      <td>41107.23</td>\n",
       "      <td>8529.54</td>\n",
       "      <td>-32577.69</td>\n",
       "      <td>False</td>\n",
       "    </tr>\n",
       "    <tr>\n",
       "      <th>1</th>\n",
       "      <td>3</td>\n",
       "      <td>Cadillac</td>\n",
       "      <td>XLR</td>\n",
       "      <td>24982.65</td>\n",
       "      <td>4048.91</td>\n",
       "      <td>-20933.74</td>\n",
       "      <td>False</td>\n",
       "    </tr>\n",
       "    <tr>\n",
       "      <th>2</th>\n",
       "      <td>4</td>\n",
       "      <td>Cadillac</td>\n",
       "      <td>Eldorado</td>\n",
       "      <td>1599.61</td>\n",
       "      <td>83575.23</td>\n",
       "      <td>81975.62</td>\n",
       "      <td>True</td>\n",
       "    </tr>\n",
       "    <tr>\n",
       "      <th>3</th>\n",
       "      <td>6</td>\n",
       "      <td>Corbin</td>\n",
       "      <td>Sparrow</td>\n",
       "      <td>45533.84</td>\n",
       "      <td>66986.16</td>\n",
       "      <td>21452.32</td>\n",
       "      <td>True</td>\n",
       "    </tr>\n",
       "    <tr>\n",
       "      <th>4</th>\n",
       "      <td>7</td>\n",
       "      <td>GMC</td>\n",
       "      <td>Canyon</td>\n",
       "      <td>9408.15</td>\n",
       "      <td>65708.52</td>\n",
       "      <td>56300.37</td>\n",
       "      <td>True</td>\n",
       "    </tr>\n",
       "    <tr>\n",
       "      <th>...</th>\n",
       "      <td>...</td>\n",
       "      <td>...</td>\n",
       "      <td>...</td>\n",
       "      <td>...</td>\n",
       "      <td>...</td>\n",
       "      <td>...</td>\n",
       "      <td>...</td>\n",
       "    </tr>\n",
       "    <tr>\n",
       "      <th>71</th>\n",
       "      <td>95</td>\n",
       "      <td>Ford</td>\n",
       "      <td>Mustang</td>\n",
       "      <td>14674.94</td>\n",
       "      <td>12010.62</td>\n",
       "      <td>-2664.32</td>\n",
       "      <td>False</td>\n",
       "    </tr>\n",
       "    <tr>\n",
       "      <th>72</th>\n",
       "      <td>96</td>\n",
       "      <td>GMC</td>\n",
       "      <td>Sonoma Club Coupe</td>\n",
       "      <td>4214.93</td>\n",
       "      <td>24509.82</td>\n",
       "      <td>20294.89</td>\n",
       "      <td>True</td>\n",
       "    </tr>\n",
       "    <tr>\n",
       "      <th>73</th>\n",
       "      <td>97</td>\n",
       "      <td>Subaru</td>\n",
       "      <td>Leone</td>\n",
       "      <td>44519.55</td>\n",
       "      <td>37449.81</td>\n",
       "      <td>-7069.74</td>\n",
       "      <td>False</td>\n",
       "    </tr>\n",
       "    <tr>\n",
       "      <th>74</th>\n",
       "      <td>98</td>\n",
       "      <td>Ford</td>\n",
       "      <td>Contour</td>\n",
       "      <td>7116.29</td>\n",
       "      <td>29959.23</td>\n",
       "      <td>22842.94</td>\n",
       "      <td>True</td>\n",
       "    </tr>\n",
       "    <tr>\n",
       "      <th>75</th>\n",
       "      <td>99</td>\n",
       "      <td>Dodge</td>\n",
       "      <td>Daytona</td>\n",
       "      <td>21005.42</td>\n",
       "      <td>50325.66</td>\n",
       "      <td>29320.24</td>\n",
       "      <td>True</td>\n",
       "    </tr>\n",
       "  </tbody>\n",
       "</table>\n",
       "<p>76 rows × 7 columns</p>\n",
       "</div>"
      ],
      "text/plain": [
       "    CarSaleID     Brand              Model  BuyingPrice  SellingPrice  \\\n",
       "0           2      Ford            Festiva     41107.23       8529.54   \n",
       "1           3  Cadillac                XLR     24982.65       4048.91   \n",
       "2           4  Cadillac           Eldorado      1599.61      83575.23   \n",
       "3           6    Corbin            Sparrow     45533.84      66986.16   \n",
       "4           7       GMC             Canyon      9408.15      65708.52   \n",
       "..        ...       ...                ...          ...           ...   \n",
       "71         95      Ford            Mustang     14674.94      12010.62   \n",
       "72         96       GMC  Sonoma Club Coupe      4214.93      24509.82   \n",
       "73         97    Subaru              Leone     44519.55      37449.81   \n",
       "74         98      Ford            Contour      7116.29      29959.23   \n",
       "75         99     Dodge            Daytona     21005.42      50325.66   \n",
       "\n",
       "      Profit  MadeProfit  \n",
       "0  -32577.69       False  \n",
       "1  -20933.74       False  \n",
       "2   81975.62        True  \n",
       "3   21452.32        True  \n",
       "4   56300.37        True  \n",
       "..       ...         ...  \n",
       "71  -2664.32       False  \n",
       "72  20294.89        True  \n",
       "73  -7069.74       False  \n",
       "74  22842.94        True  \n",
       "75  29320.24        True  \n",
       "\n",
       "[76 rows x 7 columns]"
      ]
     },
     "execution_count": 15,
     "metadata": {},
     "output_type": "execute_result"
    }
   ],
   "source": [
    "# Check\n",
    "car_sales"
   ]
  },
  {
   "cell_type": "markdown",
   "id": "ec69770b",
   "metadata": {},
   "source": [
    "# Adding some \"Measures\".  \n",
    "# Calculate the average sales, average profit\n",
    "# and total profit."
   ]
  },
  {
   "cell_type": "code",
   "execution_count": 16,
   "id": "e0a42dad",
   "metadata": {},
   "outputs": [
    {
     "data": {
      "text/plain": [
       "49770.32960526316"
      ]
     },
     "execution_count": 16,
     "metadata": {},
     "output_type": "execute_result"
    }
   ],
   "source": [
    "average_sales = car_sales['SellingPrice'].mean()\n",
    "average_sales"
   ]
  },
  {
   "cell_type": "code",
   "execution_count": 17,
   "id": "56dc6f63",
   "metadata": {},
   "outputs": [
    {
     "data": {
      "text/plain": [
       "26072.268684210525"
      ]
     },
     "execution_count": 17,
     "metadata": {},
     "output_type": "execute_result"
    }
   ],
   "source": [
    "average_profit = car_sales['Profit'].mean()\n",
    "average_profit"
   ]
  },
  {
   "cell_type": "code",
   "execution_count": 18,
   "id": "b43c8b4f",
   "metadata": {},
   "outputs": [
    {
     "data": {
      "text/plain": [
       "1981492.42"
      ]
     },
     "execution_count": 18,
     "metadata": {},
     "output_type": "execute_result"
    }
   ],
   "source": [
    "total_profit = car_sales['Profit'].sum()\n",
    "total_profit"
   ]
  },
  {
   "cell_type": "markdown",
   "id": "223d03b2",
   "metadata": {},
   "source": [
    "# Save data to csv file"
   ]
  },
  {
   "cell_type": "code",
   "execution_count": 19,
   "id": "61b90100",
   "metadata": {},
   "outputs": [],
   "source": [
    "# Save data to local file called 'ProcessedCarSalesData.csv'\n",
    "car_sales.to_csv('ProcessedCarSalesData.csv', index=False)"
   ]
  }
 ],
 "metadata": {
  "kernelspec": {
   "display_name": "Python 3 (ipykernel)",
   "language": "python",
   "name": "python3"
  },
  "language_info": {
   "codemirror_mode": {
    "name": "ipython",
    "version": 3
   },
   "file_extension": ".py",
   "mimetype": "text/x-python",
   "name": "python",
   "nbconvert_exporter": "python",
   "pygments_lexer": "ipython3",
   "version": "3.11.5"
  }
 },
 "nbformat": 4,
 "nbformat_minor": 5
}
